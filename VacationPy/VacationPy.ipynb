{
 "cells": [
  {
   "cell_type": "markdown",
   "execution_count": null,
   "metadata": {},
   "outputs": [],
   "source": [
    "# VacationPy\n",
    "---\n",
    "This notebook contains a Python script to analyze weather data of a random set of cities to help with planning future vacations! We use [jupyter-gmaps](https://jupyter-gmaps.readthedocs.io/) and the [Google Places API](https://developers.google.com/places/web-service/intro) to create a heat map that displays the humidity for every city that we gathered weather data for, using the [WeatherPy](https://github.com/anulkar/python-api-challenge/blob/master/WeatherPy/WeatherPy.ipynb) script. We then narrow down the list of cities based on ideal weather conditions for vacation planning purposes and then uses the Places API to find the first hotel for each city located within 5000 meters of the city's geo-coordinates. Lastly, we plot the hotels on top of the humidity heatmap with each pin containing the Hotel Name, City, and Country.\n",
    "\n",
    "\n",
    " \n"
   ]
  },
  {
   "cell_type": "markdown",
   "execution_count": null,
   "metadata": {},
   "outputs": [],
   "source": [
    "## Dependencies and Setup"
   ]
  },
  {
   "cell_type": "code",
   "execution_count": 15,
   "metadata": {},
   "outputs": [],
   "source": [
    "# Dependencies and Setup\n",
    "import matplotlib.pyplot as plt\n",
    "import pandas as pd\n",
    "import numpy as np\n",
    "import requests\n",
    "import gmaps\n",
    "import os\n",
    "from pprint import pprint\n",
    "\n",
    "# Import API key\n",
    "from api_keys import g_key"
   ]
  },
  {
   "cell_type": "markdown",
   "execution_count": null,
   "metadata": {},
   "outputs": [],
   "source": [
    "## Store Part I Weather Data results into DataFrame"
   ]
  },
  {
   "cell_type": "code",
   "execution_count": 16,
   "metadata": {},
   "outputs": [
    {
     "data": {
      "text/html": "<div>\n<style scoped>\n    .dataframe tbody tr th:only-of-type {\n        vertical-align: middle;\n    }\n\n    .dataframe tbody tr th {\n        vertical-align: top;\n    }\n\n    .dataframe thead th {\n        text-align: right;\n    }\n</style>\n<table border=\"1\" class=\"dataframe\">\n  <thead>\n    <tr style=\"text-align: right;\">\n      <th></th>\n      <th>City #</th>\n      <th>City</th>\n      <th>Country</th>\n      <th>Date</th>\n      <th>Latitude</th>\n      <th>Longitude</th>\n      <th>Max Temperature</th>\n      <th>Cloudiness</th>\n      <th>Humidity</th>\n      <th>Wind Speed</th>\n    </tr>\n  </thead>\n  <tbody>\n    <tr>\n      <th>0</th>\n      <td>0</td>\n      <td>Taveta</td>\n      <td>KE</td>\n      <td>1580233299</td>\n      <td>-3.40</td>\n      <td>37.67</td>\n      <td>77.00</td>\n      <td>75</td>\n      <td>78</td>\n      <td>5.82</td>\n    </tr>\n    <tr>\n      <th>1</th>\n      <td>1</td>\n      <td>Butajira</td>\n      <td>ET</td>\n      <td>1580233300</td>\n      <td>8.12</td>\n      <td>38.37</td>\n      <td>66.99</td>\n      <td>64</td>\n      <td>61</td>\n      <td>15.48</td>\n    </tr>\n    <tr>\n      <th>2</th>\n      <td>2</td>\n      <td>Khatanga</td>\n      <td>RU</td>\n      <td>1580233301</td>\n      <td>71.97</td>\n      <td>102.50</td>\n      <td>-5.80</td>\n      <td>81</td>\n      <td>97</td>\n      <td>7.99</td>\n    </tr>\n    <tr>\n      <th>3</th>\n      <td>3</td>\n      <td>Ponta do Sol</td>\n      <td>PT</td>\n      <td>1580233301</td>\n      <td>32.67</td>\n      <td>-17.10</td>\n      <td>66.20</td>\n      <td>20</td>\n      <td>59</td>\n      <td>6.93</td>\n    </tr>\n    <tr>\n      <th>4</th>\n      <td>4</td>\n      <td>Thompson</td>\n      <td>CA</td>\n      <td>1580233302</td>\n      <td>55.74</td>\n      <td>-97.86</td>\n      <td>14.00</td>\n      <td>90</td>\n      <td>85</td>\n      <td>4.70</td>\n    </tr>\n  </tbody>\n</table>\n</div>",
      "text/plain": "   City #          City Country        Date  Latitude  Longitude  \\\n0       0        Taveta      KE  1580233299     -3.40      37.67   \n1       1      Butajira      ET  1580233300      8.12      38.37   \n2       2      Khatanga      RU  1580233301     71.97     102.50   \n3       3  Ponta do Sol      PT  1580233301     32.67     -17.10   \n4       4      Thompson      CA  1580233302     55.74     -97.86   \n\n   Max Temperature  Cloudiness  Humidity  Wind Speed  \n0            77.00          75        78        5.82  \n1            66.99          64        61       15.48  \n2            -5.80          81        97        7.99  \n3            66.20          20        59        6.93  \n4            14.00          90        85        4.70  "
     },
     "execution_count": 16,
     "metadata": {},
     "output_type": "execute_result"
    }
   ],
   "source": [
    "# Path to the csv file containing weather data for random list of cities across the world\n",
    "cities_csv = \"../output_data/cities.csv\"\n",
    "\n",
    "# Read the weather data for all cities into a DataFrame\n",
    "cities_weather_df = pd.read_csv(cities_csv)\n",
    "\n",
    "# Print first 5 rows of the DataFrame\n",
    "cities_weather_df.head()"
   ]
  },
  {
   "cell_type": "markdown",
   "execution_count": null,
   "metadata": {},
   "outputs": [],
   "source": [
    "## Humidity Heatmap\n",
    "* Configure gmaps.\n",
    "* Create a Heatmap layer that displays the humidity for every city using the Lat and Lng as locations and Humidity as the weight.\n",
    "* Add Heatmap layer to the gmap."
   ]
  },
  {
   "cell_type": "code",
   "execution_count": 17,
   "metadata": {},
   "outputs": [],
   "source": [
    "# Configure gmaps\n",
    "gmaps.configure(api_key=g_key)\n",
    "\n",
    "# Grab the latitude and longitude locations and humidity data \n",
    "locations = cities_weather_df[['Latitude', 'Longitude']]\n",
    "humidity = cities_weather_df['Humidity'].astype(float)\n",
    "max_humidity = humidity.max()\n",
    "\n",
    "# Calculate the center point of all the geo-coordinates for the gmaps figure\n",
    "center_lat = sum(cities_weather_df['Latitude']) / len(cities_weather_df['Latitude'])\n",
    "center_long = sum(cities_weather_df['Longitude']) / len(cities_weather_df['Longitude'])\n",
    "center_coordinates = (center_lat, center_long)"
   ]
  },
  {
   "cell_type": "code",
   "execution_count": 18,
   "metadata": {},
   "outputs": [
    {
     "data": {
      "application/vnd.jupyter.widget-view+json": {
       "model_id": "84f19242555d45bfb2eb2f11d8d37eed",
       "version_major": 2,
       "version_minor": 0
      },
      "text/plain": "Figure(layout=FigureLayout(height='420px'))"
     },
     "metadata": {},
     "output_type": "display_data"
    }
   ],
   "source": [
    "# Plot Heatmap\n",
    "fig = gmaps.figure(center=center_coordinates, zoom_level=2)\n",
    "\n",
    "# Create heat layer by using Lat and Lng as location and humidity as the weight\n",
    "heat_layer = gmaps.heatmap_layer(locations, weights=humidity, \n",
    "                                 dissipating=False, max_intensity=float(max_humidity),\n",
    "                                 point_radius=1)\n",
    "\n",
    "# Add heatmap layer to map\n",
    "fig.add_layer(heat_layer)\n",
    "\n",
    "# Display figure\n",
    "fig"
   ]
  },
  {
   "cell_type": "markdown",
   "execution_count": null,
   "metadata": {},
   "outputs": [],
   "source": [
    "## Create new DataFrame for cities based on ideal weather criteria\n",
    "* Narrow down the cities to fit weather conditions.\n",
    "* Drop any rows with null values."
   ]
  },
  {
   "cell_type": "code",
   "execution_count": 19,
   "metadata": {},
   "outputs": [
    {
     "name": "stdout",
     "output_type": "stream",
     "text": "Here's the DataFrame for 8 cities that fit the below ideal weather conditions:\nMax Temp >= 65F and <= 80F | Wind Speeds <= 10 | No Cloud Cover | Humidity <= 70%\n"
    },
    {
     "data": {
      "text/html": "<div>\n<style scoped>\n    .dataframe tbody tr th:only-of-type {\n        vertical-align: middle;\n    }\n\n    .dataframe tbody tr th {\n        vertical-align: top;\n    }\n\n    .dataframe thead th {\n        text-align: right;\n    }\n</style>\n<table border=\"1\" class=\"dataframe\">\n  <thead>\n    <tr style=\"text-align: right;\">\n      <th></th>\n      <th>City #</th>\n      <th>City</th>\n      <th>Country</th>\n      <th>Date</th>\n      <th>Latitude</th>\n      <th>Longitude</th>\n      <th>Max Temperature</th>\n      <th>Cloudiness</th>\n      <th>Humidity</th>\n      <th>Wind Speed</th>\n    </tr>\n  </thead>\n  <tbody>\n    <tr>\n      <th>35</th>\n      <td>35</td>\n      <td>Guerrero Negro</td>\n      <td>MX</td>\n      <td>1580233323</td>\n      <td>27.98</td>\n      <td>-114.06</td>\n      <td>69.12</td>\n      <td>0</td>\n      <td>33</td>\n      <td>3.85</td>\n    </tr>\n    <tr>\n      <th>135</th>\n      <td>135</td>\n      <td>Abu Dhabi</td>\n      <td>AE</td>\n      <td>1580233388</td>\n      <td>24.47</td>\n      <td>54.37</td>\n      <td>66.20</td>\n      <td>0</td>\n      <td>63</td>\n      <td>6.93</td>\n    </tr>\n    <tr>\n      <th>144</th>\n      <td>144</td>\n      <td>Santa Cruz de Tenerife</td>\n      <td>ES</td>\n      <td>1580233396</td>\n      <td>28.47</td>\n      <td>-16.25</td>\n      <td>71.01</td>\n      <td>0</td>\n      <td>67</td>\n      <td>3.36</td>\n    </tr>\n    <tr>\n      <th>164</th>\n      <td>164</td>\n      <td>Lalmohan</td>\n      <td>BD</td>\n      <td>1580233410</td>\n      <td>22.34</td>\n      <td>90.74</td>\n      <td>65.23</td>\n      <td>0</td>\n      <td>65</td>\n      <td>6.20</td>\n    </tr>\n    <tr>\n      <th>239</th>\n      <td>239</td>\n      <td>Gwadar</td>\n      <td>PK</td>\n      <td>1580233450</td>\n      <td>25.12</td>\n      <td>62.33</td>\n      <td>67.91</td>\n      <td>0</td>\n      <td>33</td>\n      <td>2.59</td>\n    </tr>\n    <tr>\n      <th>351</th>\n      <td>351</td>\n      <td>Pulgaon</td>\n      <td>IN</td>\n      <td>1580233534</td>\n      <td>20.73</td>\n      <td>78.33</td>\n      <td>72.16</td>\n      <td>0</td>\n      <td>34</td>\n      <td>3.89</td>\n    </tr>\n    <tr>\n      <th>380</th>\n      <td>380</td>\n      <td>San Mateo Ixtatan</td>\n      <td>GT</td>\n      <td>1580233554</td>\n      <td>15.83</td>\n      <td>-91.48</td>\n      <td>74.23</td>\n      <td>0</td>\n      <td>48</td>\n      <td>5.17</td>\n    </tr>\n    <tr>\n      <th>449</th>\n      <td>449</td>\n      <td>Magadi</td>\n      <td>IN</td>\n      <td>1580233598</td>\n      <td>12.97</td>\n      <td>77.23</td>\n      <td>73.40</td>\n      <td>0</td>\n      <td>53</td>\n      <td>3.36</td>\n    </tr>\n  </tbody>\n</table>\n</div>",
      "text/plain": "     City #                    City Country        Date  Latitude  Longitude  \\\n35       35          Guerrero Negro      MX  1580233323     27.98    -114.06   \n135     135               Abu Dhabi      AE  1580233388     24.47      54.37   \n144     144  Santa Cruz de Tenerife      ES  1580233396     28.47     -16.25   \n164     164                Lalmohan      BD  1580233410     22.34      90.74   \n239     239                  Gwadar      PK  1580233450     25.12      62.33   \n351     351                 Pulgaon      IN  1580233534     20.73      78.33   \n380     380       San Mateo Ixtatan      GT  1580233554     15.83     -91.48   \n449     449                  Magadi      IN  1580233598     12.97      77.23   \n\n     Max Temperature  Cloudiness  Humidity  Wind Speed  \n35             69.12           0        33        3.85  \n135            66.20           0        63        6.93  \n144            71.01           0        67        3.36  \n164            65.23           0        65        6.20  \n239            67.91           0        33        2.59  \n351            72.16           0        34        3.89  \n380            74.23           0        48        5.17  \n449            73.40           0        53        3.36  "
     },
     "execution_count": 19,
     "metadata": {},
     "output_type": "execute_result"
    }
   ],
   "source": [
    "# Narrow down the DataFrame based on ideal weather conditions to return an ideal cities DataFrame\n",
    "# A max temperature less than or equal to 80 degrees but higher than or equal to 65\n",
    "# Wind speed less than or equal to 10 mph\n",
    "# No cloud cover\n",
    "# Not more than 70% humdity\n",
    "\n",
    "ideal_weather_conditions_df = cities_weather_df[ (cities_weather_df['Max Temperature'] >= 65) & (cities_weather_df['Max Temperature'] <= 80) & (cities_weather_df['Wind Speed'] <= 10) & (cities_weather_df['Cloudiness'] <= 0)  & (cities_weather_df['Humidity'] <= 70)]\n",
    "\n",
    "# Drop any rows with null values\n",
    "ideal_cities_df = ideal_weather_conditions_df.dropna(how='any')\n",
    "\n",
    "print(f\"Here's the DataFrame for {len(ideal_cities_df['City #'])} cities that fit the below ideal weather conditions:\")\n",
    "print(\"Max Temp >= 65F and <= 80F | Wind Speeds <= 10 | No Cloud Cover | Humidity <= 70%\")\n",
    "ideal_cities_df"
   ]
  },
  {
   "cell_type": "markdown",
   "execution_count": null,
   "metadata": {},
   "outputs": [],
   "source": [
    "## Hotel Map\n",
    "* Using Google Places API, find the first hotel for each city located within 5000 meters of teh city's geo-coordinates.\n",
    "* Plot the hotels on top of the humidity heatmap with each pin containing the **Hotel Name**, **City**, and **Country**.\n",
    "\n",
    "\n",
    "\n"
   ]
  },
  {
   "cell_type": "code",
   "execution_count": 20,
   "metadata": {},
   "outputs": [
    {
     "name": "stdout",
     "output_type": "stream",
     "text": "Searching for Hotels...\n------------------------------------------------------------------------------------------\nFound the hotel 'Casa Laguna, Bed & Breakfast' within 5000 meters of the city 'Guerrero Negro'\nFound the hotel 'Beach Rotana' within 5000 meters of the city 'Abu Dhabi'\nFound the hotel 'Hotel Silken' within 5000 meters of the city 'Santa Cruz de Tenerife'\nFound the hotel 'Sundorbon courier service' within 5000 meters of the city 'Lalmohan'\nFound the hotel 'Sadaf Resort' within 5000 meters of the city 'Gwadar'\nFound the hotel 'Shankar Lodge (शंकर लाज)' within 5000 meters of the city 'Pulgaon'\nFound the hotel 'HOTEL MAGDALENA' within 5000 meters of the city 'San Mateo Ixtatan'\nFound the hotel 'Mindri of Magadi' within 5000 meters of the city 'Magadi'\n------------------------------------------------------------------------------------------\nCompleted Hotel Search | Below is a list of all 8 Hotels...\n------------------------------------------------------------------------------------------\n"
    },
    {
     "data": {
      "text/html": "<div>\n<style scoped>\n    .dataframe tbody tr th:only-of-type {\n        vertical-align: middle;\n    }\n\n    .dataframe tbody tr th {\n        vertical-align: top;\n    }\n\n    .dataframe thead th {\n        text-align: right;\n    }\n</style>\n<table border=\"1\" class=\"dataframe\">\n  <thead>\n    <tr style=\"text-align: right;\">\n      <th></th>\n      <th>Hotel Name</th>\n      <th>Hotel Lat</th>\n      <th>Hotel Lng</th>\n      <th>City</th>\n      <th>Country</th>\n    </tr>\n  </thead>\n  <tbody>\n    <tr>\n      <th>0</th>\n      <td>Casa Laguna, Bed &amp; Breakfast</td>\n      <td>27.959275</td>\n      <td>-114.055272</td>\n      <td>Guerrero Negro</td>\n      <td>MX</td>\n    </tr>\n    <tr>\n      <th>1</th>\n      <td>Beach Rotana</td>\n      <td>24.494530</td>\n      <td>54.383850</td>\n      <td>Abu Dhabi</td>\n      <td>AE</td>\n    </tr>\n    <tr>\n      <th>2</th>\n      <td>Hotel Silken</td>\n      <td>28.458413</td>\n      <td>-16.257442</td>\n      <td>Santa Cruz de Tenerife</td>\n      <td>ES</td>\n    </tr>\n    <tr>\n      <th>3</th>\n      <td>Sundorbon courier service</td>\n      <td>22.340028</td>\n      <td>90.736658</td>\n      <td>Lalmohan</td>\n      <td>BD</td>\n    </tr>\n    <tr>\n      <th>4</th>\n      <td>Sadaf Resort</td>\n      <td>25.125932</td>\n      <td>62.319643</td>\n      <td>Gwadar</td>\n      <td>PK</td>\n    </tr>\n    <tr>\n      <th>5</th>\n      <td>Shankar Lodge (शंकर लाज)</td>\n      <td>20.723748</td>\n      <td>78.324614</td>\n      <td>Pulgaon</td>\n      <td>IN</td>\n    </tr>\n    <tr>\n      <th>6</th>\n      <td>HOTEL MAGDALENA</td>\n      <td>15.830499</td>\n      <td>-91.477092</td>\n      <td>San Mateo Ixtatan</td>\n      <td>GT</td>\n    </tr>\n    <tr>\n      <th>7</th>\n      <td>Mindri of Magadi</td>\n      <td>12.958381</td>\n      <td>77.228686</td>\n      <td>Magadi</td>\n      <td>IN</td>\n    </tr>\n  </tbody>\n</table>\n</div>",
      "text/plain": "                     Hotel Name  Hotel Lat   Hotel Lng  \\\n0  Casa Laguna, Bed & Breakfast  27.959275 -114.055272   \n1                  Beach Rotana  24.494530   54.383850   \n2                  Hotel Silken  28.458413  -16.257442   \n3     Sundorbon courier service  22.340028   90.736658   \n4                  Sadaf Resort  25.125932   62.319643   \n5      Shankar Lodge (शंकर लाज)  20.723748   78.324614   \n6               HOTEL MAGDALENA  15.830499  -91.477092   \n7              Mindri of Magadi  12.958381   77.228686   \n\n                     City Country  \n0          Guerrero Negro      MX  \n1               Abu Dhabi      AE  \n2  Santa Cruz de Tenerife      ES  \n3                Lalmohan      BD  \n4                  Gwadar      PK  \n5                 Pulgaon      IN  \n6       San Mateo Ixtatan      GT  \n7                  Magadi      IN  "
     },
     "execution_count": 20,
     "metadata": {},
     "output_type": "execute_result"
    }
   ],
   "source": [
    "# Set Base URL for the Google Places API\n",
    "places_api_url = f'https://maps.googleapis.com/maps/api/place/nearbysearch/json'\n",
    "\n",
    "# Set up lists to hold hotel names, their geo-coordinates, city and country \n",
    "hotels_list = []\n",
    "hotels_lat = []\n",
    "hotels_lng = []\n",
    "cities = []\n",
    "countries = []\n",
    "\n",
    "# Start of print log as we begin data retrieval using the API\n",
    "print(\"Searching for Hotels...\")\n",
    "print(f\"-\" * 90)\n",
    "\n",
    "# Iterate over the ideal cities DataFrame to find the first hotel for each city located within 5000 meters of the geo-coordinates.\n",
    "for index, row in ideal_cities_df.iterrows(): \n",
    "    # Setup a dictionary for the parameters to do a 'nearbysearch' of hotels using the Google Places API\n",
    "    # Parameters include:\n",
    "    # - the lat/long of city around which to retrieve place information\n",
    "    # - the radius (in meters) within which to return place results\n",
    "    # - type of place, i.e. lodging/hotels that we want to search for\n",
    "    params = { 'location': f\"{row['Latitude']}, {row['Longitude']}\", 'radius': 5000, 'type': 'lodging', 'key': g_key }\n",
    "    \n",
    "    # Execute the Google Place API call with the defined parameters and store the results into a JSON response object\n",
    "    places_response = requests.get(places_api_url, params=params).json()\n",
    "\n",
    "    # Try to grab the Hotel Name and it's Geo-Coordinates if available\n",
    "    try:\n",
    "        hotel_name = places_response['results'][0]['name']\n",
    "        hotels_list.append(hotel_name)\n",
    "        hotels_lat.append(places_response['results'][0]['geometry']['location']['lat'])\n",
    "        hotels_lng.append(places_response['results'][0]['geometry']['location']['lng'])\n",
    "        cities.append(row['City'])\n",
    "        countries.append(row['Country'])\n",
    "        # Print a log of each city as it's being processed with the city number and city name=\n",
    "        print(f\"Found the hotel '{hotel_name}' within 5000 meters of the city '{row['City']}'\")\n",
    "\n",
    "    # Handle exceptions for any hotels that could not be found within the 5000 meter radius \n",
    "    except:\n",
    "        print(f\"Cound not find any hotel within 5000 meters of the city '{row['City']}' | Skipping to the next one...\")\n",
    "        pass\n",
    "\n",
    "# Print the final log indicating that the search has been completed\n",
    "print(\"-\" * 90)\n",
    "print(f\"Completed Hotel Search | Below is a list of all {len(hotels_list)} Hotels...\")      \n",
    "print(\"-\" * 90)\n",
    "\n",
    "# Save the Hotel results to a DataFrame and print it\n",
    "hotel_df = pd.DataFrame( {'Hotel Name': hotels_list, 'Hotel Lat': hotels_lat, 'Hotel Lng': hotels_lng, 'City': cities, 'Country': countries} )\n",
    "hotel_df"
   ]
  },
  {
   "cell_type": "code",
   "execution_count": 21,
   "metadata": {},
   "outputs": [],
   "source": [
    "# Using the template add the hotel markers to the heatmap\n",
    "info_box_template = \"\"\"\n",
    "<dl>\n",
    "<dt>Name</dt><dd>{Hotel Name}</dd>\n",
    "<dt>City</dt><dd>{City}</dd>\n",
    "<dt>Country</dt><dd>{Country}</dd>\n",
    "</dl>\n",
    "\"\"\"\n",
    "# Store the DataFrame Row\n",
    "hotel_info = [info_box_template.format(**row) for index, row in hotel_df.iterrows()]\n",
    "\n",
    "# List of hotel marker locations represents the lat/long coordinates of each hotel\n",
    "hotel_marker_locations = hotel_df[[\"Hotel Lat\", \"Hotel Lng\"]]"
   ]
  },
  {
   "cell_type": "code",
   "execution_count": 22,
   "metadata": {},
   "outputs": [
    {
     "data": {
      "application/vnd.jupyter.widget-view+json": {
       "model_id": "84f19242555d45bfb2eb2f11d8d37eed",
       "version_major": 2,
       "version_minor": 0
      },
      "text/plain": "Figure(layout=FigureLayout(height='420px'))"
     },
     "metadata": {},
     "output_type": "display_data"
    }
   ],
   "source": [
    "# Add marker layer ontop of heat map\n",
    "marker_layer = gmaps.marker_layer(hotel_marker_locations, info_box_content=hotel_info)\n",
    "fig.add_layer(marker_layer)\n",
    "\n",
    "# Display Map\n",
    "fig"
   ]
  },
  {
   "cell_type": "code",
   "execution_count": null,
   "metadata": {},
   "outputs": [],
   "source": []
  }
 ],
 "metadata": {
  "kernelspec": {
   "display_name": "Python 3.7.5 64-bit ('PythonData': conda)",
   "language": "python",
   "name": "python37564bitpythondatacondac30bd6fcf4694af7948ebff9c485f105"
  },
  "language_info": {
   "codemirror_mode": {
    "name": "ipython",
    "version": 3
   },
   "file_extension": ".py",
   "mimetype": "text/x-python",
   "name": "python",
   "nbconvert_exporter": "python",
   "pygments_lexer": "ipython3",
   "version": "3.7.5-final"
  },
  "latex_envs": {
   "LaTeX_envs_menu_present": true,
   "autoclose": false,
   "autocomplete": true,
   "bibliofile": "biblio.bib",
   "cite_by": "apalike",
   "current_citInitial": 1,
   "eqLabelWithNumbers": true,
   "eqNumInitial": 1,
   "hotkeys": {
    "equation": "Ctrl-E",
    "itemize": "Ctrl-I"
   },
   "labels_anchors": false,
   "latex_user_defs": false,
   "report_style_numbering": false,
   "user_envs_cfg": false
  }
 },
 "nbformat": 4,
 "nbformat_minor": 2
}