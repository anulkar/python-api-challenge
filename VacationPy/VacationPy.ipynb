{
 "cells": [
  {
   "cell_type": "markdown",
   "execution_count": null,
   "metadata": {},
   "outputs": [],
   "source": [
    "# VacationPy\n",
    "----"
   ]
  },
  {
   "cell_type": "code",
   "execution_count": 10,
   "metadata": {},
   "outputs": [],
   "source": [
    "# Dependencies and Setup\n",
    "import matplotlib.pyplot as plt\n",
    "import pandas as pd\n",
    "import numpy as np\n",
    "import requests\n",
    "import gmaps\n",
    "import os\n",
    "from pprint import pprint\n",
    "\n",
    "# Import API key\n",
    "from api_keys import g_key"
   ]
  },
  {
   "cell_type": "markdown",
   "execution_count": null,
   "metadata": {},
   "outputs": [],
   "source": [
    "### Store Part I results into DataFrame\n",
    "* Load the csv exported in Part I to a DataFrame"
   ]
  },
  {
   "cell_type": "code",
   "execution_count": 11,
   "metadata": {},
   "outputs": [
    {
     "data": {
      "text/html": "<div>\n<style scoped>\n    .dataframe tbody tr th:only-of-type {\n        vertical-align: middle;\n    }\n\n    .dataframe tbody tr th {\n        vertical-align: top;\n    }\n\n    .dataframe thead th {\n        text-align: right;\n    }\n</style>\n<table border=\"1\" class=\"dataframe\">\n  <thead>\n    <tr style=\"text-align: right;\">\n      <th></th>\n      <th>City #</th>\n      <th>City</th>\n      <th>Country</th>\n      <th>Date</th>\n      <th>Latitude</th>\n      <th>Longitude</th>\n      <th>Max Temperature</th>\n      <th>Cloudiness</th>\n      <th>Humidity</th>\n      <th>Wind Speed</th>\n    </tr>\n  </thead>\n  <tbody>\n    <tr>\n      <th>0</th>\n      <td>0</td>\n      <td>Esperance</td>\n      <td>AU</td>\n      <td>1580085724</td>\n      <td>-33.87</td>\n      <td>121.90</td>\n      <td>71.60</td>\n      <td>0</td>\n      <td>94</td>\n      <td>6.93</td>\n    </tr>\n    <tr>\n      <th>1</th>\n      <td>1</td>\n      <td>Acajutla</td>\n      <td>SV</td>\n      <td>1580085743</td>\n      <td>13.59</td>\n      <td>-89.83</td>\n      <td>81.21</td>\n      <td>13</td>\n      <td>74</td>\n      <td>10.09</td>\n    </tr>\n    <tr>\n      <th>2</th>\n      <td>2</td>\n      <td>Hobart</td>\n      <td>AU</td>\n      <td>1580086009</td>\n      <td>-42.88</td>\n      <td>147.33</td>\n      <td>63.00</td>\n      <td>75</td>\n      <td>48</td>\n      <td>10.29</td>\n    </tr>\n    <tr>\n      <th>3</th>\n      <td>3</td>\n      <td>Butaritari</td>\n      <td>KI</td>\n      <td>1580086070</td>\n      <td>3.07</td>\n      <td>172.79</td>\n      <td>82.56</td>\n      <td>100</td>\n      <td>79</td>\n      <td>11.83</td>\n    </tr>\n    <tr>\n      <th>4</th>\n      <td>4</td>\n      <td>Avarua</td>\n      <td>CK</td>\n      <td>1580086071</td>\n      <td>-21.21</td>\n      <td>-159.78</td>\n      <td>77.00</td>\n      <td>98</td>\n      <td>94</td>\n      <td>4.70</td>\n    </tr>\n  </tbody>\n</table>\n</div>",
      "text/plain": "   City #        City Country        Date  Latitude  Longitude  \\\n0       0   Esperance      AU  1580085724    -33.87     121.90   \n1       1    Acajutla      SV  1580085743     13.59     -89.83   \n2       2      Hobart      AU  1580086009    -42.88     147.33   \n3       3  Butaritari      KI  1580086070      3.07     172.79   \n4       4      Avarua      CK  1580086071    -21.21    -159.78   \n\n   Max Temperature  Cloudiness  Humidity  Wind Speed  \n0            71.60           0        94        6.93  \n1            81.21          13        74       10.09  \n2            63.00          75        48       10.29  \n3            82.56         100        79       11.83  \n4            77.00          98        94        4.70  "
     },
     "execution_count": 11,
     "metadata": {},
     "output_type": "execute_result"
    }
   ],
   "source": [
    "# Path to the csv file\n",
    "cities_csv = \"../output_data/cities.csv\"\n",
    "\n",
    "# Ready the weather data for all cities into a DataFrame\n",
    "cities_weather_df = pd.read_csv(cities_csv)\n",
    "\n",
    "# Print DataFrame\n",
    "cities_weather_df.head()"
   ]
  },
  {
   "cell_type": "markdown",
   "execution_count": null,
   "metadata": {},
   "outputs": [],
   "source": [
    "### Humidity Heatmap\n",
    "* Configure gmaps.\n",
    "* Use the Lat and Lng as locations and Humidity as the weight.\n",
    "* Add Heatmap layer to map."
   ]
  },
  {
   "cell_type": "code",
   "execution_count": 12,
   "metadata": {},
   "outputs": [],
   "source": [
    "# Configure gmaps\n",
    "gmaps.configure(api_key=g_key)\n",
    "\n",
    "# Grab the latitude and longitude locations and humidity data \n",
    "locations = cities_weather_df[['Latitude', 'Longitude']]\n",
    "humidity = cities_weather_df['Humidity'].astype(float)\n",
    "max_humidity = humidity.max()\n",
    "\n",
    "# Calculate the center point of all the geo-coordinates for the gmaps figure\n",
    "center_lat = sum(cities_weather_df['Latitude']) / len(cities_weather_df['Latitude'])\n",
    "center_long = sum(cities_weather_df['Longitude']) / len(cities_weather_df['Longitude'])\n",
    "center_coordinates = (center_lat, center_long)"
   ]
  },
  {
   "cell_type": "code",
   "execution_count": 13,
   "metadata": {},
   "outputs": [
    {
     "data": {
      "application/vnd.jupyter.widget-view+json": {
       "model_id": "925fdcda7169488bbdc6b547aa8d09d4",
       "version_major": 2,
       "version_minor": 0
      },
      "text/plain": "Figure(layout=FigureLayout(height='420px'))"
     },
     "metadata": {},
     "output_type": "display_data"
    }
   ],
   "source": [
    "# Plot Heatmap\n",
    "fig = gmaps.figure(center=center_coordinates, zoom_level=2)\n",
    "\n",
    "# Create heat layer by using Lat and Lng as location and humidity as the weight\n",
    "heat_layer = gmaps.heatmap_layer(locations, weights=humidity, \n",
    "                                 dissipating=False, max_intensity=float(max_humidity),\n",
    "                                 point_radius=1)\n",
    "\n",
    "# Add heatmap layer to map\n",
    "fig.add_layer(heat_layer)\n",
    "\n",
    "# Display figure\n",
    "fig"
   ]
  },
  {
   "cell_type": "markdown",
   "execution_count": null,
   "metadata": {},
   "outputs": [],
   "source": [
    "### Create new DataFrame fitting weather criteria\n",
    "* Narrow down the cities to fit weather conditions.\n",
    "* Drop any rows will null values."
   ]
  },
  {
   "cell_type": "code",
   "execution_count": 14,
   "metadata": {},
   "outputs": [
    {
     "data": {
      "text/plain": "City #             18\nCity               18\nCountry            18\nDate               18\nLatitude           18\nLongitude          18\nMax Temperature    18\nCloudiness         18\nHumidity           18\nWind Speed         18\ndtype: int64"
     },
     "execution_count": 14,
     "metadata": {},
     "output_type": "execute_result"
    }
   ],
   "source": [
    "# Narrow down the DataFrame based on ideal weather conditions to return an ideal cities DataFrame\n",
    "# A max temperature less than or equal to 80 degrees but higher than or equal to 65\n",
    "# Wind speed less than or equal to 10 mph\n",
    "# Not more than 30% cloud cover\n",
    "# Not more than 80% humdity\n",
    "\n",
    "ideal_weather_conditions_df = cities_weather_df[ (cities_weather_df['Max Temperature'] >= 65) & (cities_weather_df['Max Temperature'] <= 80) & (cities_weather_df['Wind Speed'] <= 10) & (cities_weather_df['Cloudiness'] <= 30)  & (cities_weather_df['Humidity'] <= 80)]\n",
    "\n",
    "# Drop any rows with null values\n",
    "ideal_cities_df = ideal_weather_conditions_df.dropna(how='any')\n",
    "ideal_cities_df.count()"
   ]
  },
  {
   "cell_type": "markdown",
   "execution_count": null,
   "metadata": {},
   "outputs": [],
   "source": [
    "### Hotel Map"
   ]
  },
  {
   "cell_type": "code",
   "execution_count": 15,
   "metadata": {},
   "outputs": [
    {
     "name": "stdout",
     "output_type": "stream",
     "text": "Searching for Hotels...\n------------------------------------------------------------------------------------------\nFound the hotel 'Observatory Guest House' within 5000 meters of the city 'Busselton'\nFound the hotel 'CHACARA BAILLY' within 5000 meters of the city 'Castro'\nFound the hotel 'Capy Motel' within 5000 meters of the city 'Suleja'\nFound the hotel 'Holiday Inn Express & Suites Beeville' within 5000 meters of the city 'Beeville'\nCound not find any hotel within 5000 meters of the city 'San Ignacio Rio Muerto' | Skipping to the next one...\nFound the hotel 'Debright Motel' within 5000 meters of the city 'Jalingo'\nFound the hotel 'Norma franco' within 5000 meters of the city 'Tomatlan'\nFound the hotel 'Whispering Bamboo Cove Resort' within 5000 meters of the city 'Morant Bay'\nFound the hotel 'Austral Hotel' within 5000 meters of the city 'Comodoro Rivadavia'\nCound not find any hotel within 5000 meters of the city 'Qandala' | Skipping to the next one...\nFound the hotel 'La Nena' within 5000 meters of the city 'Caibarien'\nFound the hotel 'Friends men's were' within 5000 meters of the city 'Chincholi'\nFound the hotel 'Suskwe Lodges' within 5000 meters of the city 'Gweru'\nFound the hotel 'Chik-Chik Namibe' within 5000 meters of the city 'Mossamedes'\nCound not find any hotel within 5000 meters of the city 'Kalamare' | Skipping to the next one...\nFound the hotel 'Luz del Sol' within 5000 meters of the city 'Alamos'\nCound not find any hotel within 5000 meters of the city 'La Concordia' | Skipping to the next one...\nFound the hotel 'Milenium' within 5000 meters of the city 'Colonia Carlos Antonio Lopez'\n------------------------------------------------------------------------------------------\nCompleted Hotel Search | Below is a list of all 14 Hotels...\n------------------------------------------------------------------------------------------\n"
    },
    {
     "data": {
      "text/html": "<div>\n<style scoped>\n    .dataframe tbody tr th:only-of-type {\n        vertical-align: middle;\n    }\n\n    .dataframe tbody tr th {\n        vertical-align: top;\n    }\n\n    .dataframe thead th {\n        text-align: right;\n    }\n</style>\n<table border=\"1\" class=\"dataframe\">\n  <thead>\n    <tr style=\"text-align: right;\">\n      <th></th>\n      <th>Hotel Name</th>\n      <th>Hotel Lat</th>\n      <th>Hotel Lng</th>\n      <th>City</th>\n      <th>Country</th>\n    </tr>\n  </thead>\n  <tbody>\n    <tr>\n      <th>0</th>\n      <td>Observatory Guest House</td>\n      <td>-33.646393</td>\n      <td>115.348676</td>\n      <td>Busselton</td>\n      <td>AU</td>\n    </tr>\n    <tr>\n      <th>1</th>\n      <td>CHACARA BAILLY</td>\n      <td>-24.780711</td>\n      <td>-49.986828</td>\n      <td>Castro</td>\n      <td>BR</td>\n    </tr>\n    <tr>\n      <th>2</th>\n      <td>Capy Motel</td>\n      <td>9.200146</td>\n      <td>7.175102</td>\n      <td>Suleja</td>\n      <td>NG</td>\n    </tr>\n    <tr>\n      <th>3</th>\n      <td>Holiday Inn Express &amp; Suites Beeville</td>\n      <td>28.412941</td>\n      <td>-97.725075</td>\n      <td>Beeville</td>\n      <td>US</td>\n    </tr>\n    <tr>\n      <th>4</th>\n      <td>Debright Motel</td>\n      <td>8.882003</td>\n      <td>11.373784</td>\n      <td>Jalingo</td>\n      <td>NG</td>\n    </tr>\n    <tr>\n      <th>5</th>\n      <td>Norma franco</td>\n      <td>19.934450</td>\n      <td>-105.251663</td>\n      <td>Tomatlan</td>\n      <td>MX</td>\n    </tr>\n    <tr>\n      <th>6</th>\n      <td>Whispering Bamboo Cove Resort</td>\n      <td>17.870329</td>\n      <td>-76.372712</td>\n      <td>Morant Bay</td>\n      <td>JM</td>\n    </tr>\n    <tr>\n      <th>7</th>\n      <td>Austral Hotel</td>\n      <td>-45.862680</td>\n      <td>-67.476643</td>\n      <td>Comodoro Rivadavia</td>\n      <td>AR</td>\n    </tr>\n    <tr>\n      <th>8</th>\n      <td>La Nena</td>\n      <td>22.521744</td>\n      <td>-79.469819</td>\n      <td>Caibarien</td>\n      <td>CU</td>\n    </tr>\n    <tr>\n      <th>9</th>\n      <td>Friends men's were</td>\n      <td>17.463867</td>\n      <td>77.419489</td>\n      <td>Chincholi</td>\n      <td>IN</td>\n    </tr>\n    <tr>\n      <th>10</th>\n      <td>Suskwe Lodges</td>\n      <td>-19.470375</td>\n      <td>29.841791</td>\n      <td>Gweru</td>\n      <td>ZW</td>\n    </tr>\n    <tr>\n      <th>11</th>\n      <td>Chik-Chik Namibe</td>\n      <td>-15.197855</td>\n      <td>12.157615</td>\n      <td>Mossamedes</td>\n      <td>AO</td>\n    </tr>\n    <tr>\n      <th>12</th>\n      <td>Luz del Sol</td>\n      <td>27.021272</td>\n      <td>-108.934423</td>\n      <td>Alamos</td>\n      <td>MX</td>\n    </tr>\n    <tr>\n      <th>13</th>\n      <td>Milenium</td>\n      <td>-26.400694</td>\n      <td>-54.753181</td>\n      <td>Colonia Carlos Antonio Lopez</td>\n      <td>PY</td>\n    </tr>\n  </tbody>\n</table>\n</div>",
      "text/plain": "                               Hotel Name  Hotel Lat   Hotel Lng  \\\n0                 Observatory Guest House -33.646393  115.348676   \n1                          CHACARA BAILLY -24.780711  -49.986828   \n2                              Capy Motel   9.200146    7.175102   \n3   Holiday Inn Express & Suites Beeville  28.412941  -97.725075   \n4                          Debright Motel   8.882003   11.373784   \n5                            Norma franco  19.934450 -105.251663   \n6           Whispering Bamboo Cove Resort  17.870329  -76.372712   \n7                           Austral Hotel -45.862680  -67.476643   \n8                                 La Nena  22.521744  -79.469819   \n9                      Friends men's were  17.463867   77.419489   \n10                          Suskwe Lodges -19.470375   29.841791   \n11                       Chik-Chik Namibe -15.197855   12.157615   \n12                            Luz del Sol  27.021272 -108.934423   \n13                               Milenium -26.400694  -54.753181   \n\n                            City Country  \n0                      Busselton      AU  \n1                         Castro      BR  \n2                         Suleja      NG  \n3                       Beeville      US  \n4                        Jalingo      NG  \n5                       Tomatlan      MX  \n6                     Morant Bay      JM  \n7             Comodoro Rivadavia      AR  \n8                      Caibarien      CU  \n9                      Chincholi      IN  \n10                         Gweru      ZW  \n11                    Mossamedes      AO  \n12                        Alamos      MX  \n13  Colonia Carlos Antonio Lopez      PY  "
     },
     "execution_count": 15,
     "metadata": {},
     "output_type": "execute_result"
    }
   ],
   "source": [
    "# Set Base URL for the Google Places API\n",
    "places_api_url = f'https://maps.googleapis.com/maps/api/place/nearbysearch/json'\n",
    "\n",
    "# Set up lists to hold hotel names, their geo-coordinates, city and country \n",
    "hotels_list = []\n",
    "hotels_lat = []\n",
    "hotels_lng = []\n",
    "cities = []\n",
    "countries = []\n",
    "\n",
    "# Start of print log as we begin data retrieval using the API\n",
    "print(\"Searching for Hotels...\")\n",
    "print(f\"-\" * 90)\n",
    "\n",
    "# Iterate over the ideal cities DataFrame to find the first hotel for each city located within 5000 meters of the geo-coordinates.\n",
    "for index, row in ideal_cities_df.iterrows(): \n",
    "    # Setup a dictionary for the parameters to do a 'nearbysearch' of hotels using the Google Places API\n",
    "    # Parameters include:\n",
    "    # - the lat/long of city around which to retrieve place information\n",
    "    # - the radius (in meters) within which to return place results\n",
    "    # - type of place, i.e. lodging/hotels that we want to search for\n",
    "    params = { 'location': f\"{row['Latitude']}, {row['Longitude']}\", 'radius': 5000, 'type': 'lodging', 'key': g_key }\n",
    "    \n",
    "    # Execute the Google Place API call with the defined parameters and store the results into a JSON response object\n",
    "    places_response = requests.get(places_api_url, params=params).json()\n",
    "\n",
    "    # Try to grab the Hotel Name and it's Geo-Coordinates if available\n",
    "    try:\n",
    "        hotel_name = places_response['results'][0]['name']\n",
    "        hotels_list.append(hotel_name)\n",
    "        hotels_lat.append(places_response['results'][0]['geometry']['location']['lat'])\n",
    "        hotels_lng.append(places_response['results'][0]['geometry']['location']['lng'])\n",
    "        cities.append(row['City'])\n",
    "        countries.append(row['Country'])\n",
    "        # Print a log of each city as it's being processed with the city number and city name=\n",
    "        print(f\"Found the hotel '{hotel_name}' within 5000 meters of the city '{row['City']}'\")\n",
    "\n",
    "    # Handle exceptions for any hotels that could not be found within the 5000 meter radius \n",
    "    except:\n",
    "        print(f\"Cound not find any hotel within 5000 meters of the city '{row['City']}' | Skipping to the next one...\")\n",
    "        pass\n",
    "\n",
    "# Print the final log indicating that the search has been completed\n",
    "print(\"-\" * 90)\n",
    "print(f\"Completed Hotel Search | Below is a list of all {len(hotels_list)} Hotels...\")      \n",
    "print(\"-\" * 90)\n",
    "\n",
    "# Save the Hotel results to a DataFrame and print it\n",
    "hotel_df = pd.DataFrame( {'Hotel Name': hotels_list, 'Hotel Lat': hotels_lat, 'Hotel Lng': hotels_lng, 'City': cities, 'Country': countries} )\n",
    "hotel_df"
   ]
  },
  {
   "cell_type": "code",
   "execution_count": 16,
   "metadata": {},
   "outputs": [],
   "source": [
    "# Using the template add the hotel markers to the heatmap\n",
    "info_box_template = \"\"\"\n",
    "<dl>\n",
    "<dt>Name</dt><dd>{Hotel Name}</dd>\n",
    "<dt>City</dt><dd>{City}</dd>\n",
    "<dt>Country</dt><dd>{Country}</dd>\n",
    "</dl>\n",
    "\"\"\"\n",
    "# Store the DataFrame Row\n",
    "hotel_info = [info_box_template.format(**row) for index, row in hotel_df.iterrows()]\n",
    "\n",
    "# List of hotel marker locations represents the lat/long coordinates of each hotel\n",
    "hotel_marker_locations = hotel_df[[\"Hotel Lat\", \"Hotel Lng\"]]"
   ]
  },
  {
   "cell_type": "code",
   "execution_count": 17,
   "metadata": {},
   "outputs": [
    {
     "data": {
      "application/vnd.jupyter.widget-view+json": {
       "model_id": "925fdcda7169488bbdc6b547aa8d09d4",
       "version_major": 2,
       "version_minor": 0
      },
      "text/plain": "Figure(layout=FigureLayout(height='420px'))"
     },
     "metadata": {},
     "output_type": "display_data"
    }
   ],
   "source": [
    "# Add marker layer ontop of heat map\n",
    "marker_layer = gmaps.marker_layer(hotel_marker_locations, info_box_content=hotel_info)\n",
    "fig.add_layer(marker_layer)\n",
    "\n",
    "# Display Map\n",
    "fig"
   ]
  },
  {
   "cell_type": "code",
   "execution_count": null,
   "metadata": {},
   "outputs": [],
   "source": []
  }
 ],
 "metadata": {
  "kernelspec": {
   "display_name": "Python 3.7.5 64-bit ('PythonData': conda)",
   "language": "python",
   "name": "python37564bitpythondatacondac30bd6fcf4694af7948ebff9c485f105"
  },
  "language_info": {
   "codemirror_mode": {
    "name": "ipython",
    "version": 3
   },
   "file_extension": ".py",
   "mimetype": "text/x-python",
   "name": "python",
   "nbconvert_exporter": "python",
   "pygments_lexer": "ipython3",
   "version": "3.7.5-final"
  },
  "latex_envs": {
   "LaTeX_envs_menu_present": true,
   "autoclose": false,
   "autocomplete": true,
   "bibliofile": "biblio.bib",
   "cite_by": "apalike",
   "current_citInitial": 1,
   "eqLabelWithNumbers": true,
   "eqNumInitial": 1,
   "hotkeys": {
    "equation": "Ctrl-E",
    "itemize": "Ctrl-I"
   },
   "labels_anchors": false,
   "latex_user_defs": false,
   "report_style_numbering": false,
   "user_envs_cfg": false
  }
 },
 "nbformat": 4,
 "nbformat_minor": 2
}