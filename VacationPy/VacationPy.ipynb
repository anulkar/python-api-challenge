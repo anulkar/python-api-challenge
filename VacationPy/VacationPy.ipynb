{
 "cells": [
  {
   "cell_type": "markdown",
   "execution_count": null,
   "metadata": {},
   "outputs": [],
   "source": [
    "# VacationPy\n",
    "----"
   ]
  },
  {
   "cell_type": "code",
   "execution_count": null,
   "metadata": {},
   "outputs": [],
   "source": [
    "# Dependencies and Setup\n",
    "import matplotlib.pyplot as plt\n",
    "import pandas as pd\n",
    "import numpy as np\n",
    "import requests\n",
    "import gmaps\n",
    "import os\n",
    "from pprint import pprint\n",
    "\n",
    "# Import API key\n",
    "from api_keys import g_key"
   ]
  },
  {
   "cell_type": "markdown",
   "execution_count": null,
   "metadata": {},
   "outputs": [],
   "source": [
    "### Store Part I results into DataFrame\n",
    "* Load the csv exported in Part I to a DataFrame"
   ]
  },
  {
   "cell_type": "code",
   "execution_count": null,
   "metadata": {},
   "outputs": [],
   "source": [
    "# Path to the csv file\n",
    "cities_csv = \"../output_data/cities.csv\"\n",
    "\n",
    "# Ready the weather data for all cities into a DataFrame\n",
    "cities_weather_df = pd.read_csv(cities_csv)\n",
    "\n",
    "# Print DataFrame\n",
    "cities_weather_df.head()"
   ]
  },
  {
   "cell_type": "markdown",
   "execution_count": null,
   "metadata": {},
   "outputs": [],
   "source": [
    "### Humidity Heatmap\n",
    "* Configure gmaps.\n",
    "* Use the Lat and Lng as locations and Humidity as the weight.\n",
    "* Add Heatmap layer to map."
   ]
  },
  {
   "cell_type": "code",
   "execution_count": null,
   "metadata": {},
   "outputs": [],
   "source": [
    "# Configure gmaps\n",
    "gmaps.configure(api_key=g_key)\n",
    "\n",
    "# Grab the latitude and longitude locations and humidity data \n",
    "locations = cities_weather_df[['Latitude', 'Longitude']]\n",
    "humidity = cities_weather_df['Humidity'].astype(float)\n",
    "max_humidity = humidity.max()"
   ]
  },
  {
   "cell_type": "code",
   "execution_count": null,
   "metadata": {},
   "outputs": [],
   "source": [
    "# Plot Heatmap\n",
    "fig = gmaps.figure()\n",
    "\n",
    "# Create heat layer by using Lat and Lng as location and humidity as the weight\n",
    "heat_layer = gmaps.heatmap_layer(locations, weights=humidity, \n",
    "                                 dissipating=False, max_intensity=float(max_humidity),\n",
    "                                 point_radius=1)\n",
    "\n",
    "# Add heatmap layer to map\n",
    "fig.add_layer(heat_layer)\n",
    "\n",
    "# Display figure\n",
    "fig"
   ]
  },
  {
   "cell_type": "markdown",
   "execution_count": null,
   "metadata": {},
   "outputs": [],
   "source": [
    "### Create new DataFrame fitting weather criteria\n",
    "* Narrow down the cities to fit weather conditions.\n",
    "* Drop any rows will null values."
   ]
  },
  {
   "cell_type": "code",
   "execution_count": null,
   "metadata": {},
   "outputs": [],
   "source": [
    "# Narrow down the DataFrame based on ideal weather conditions to return an ideal cities DataFrame\n",
    "# A max temperature less than or equal to 80 degrees but higher than or equal to 65\n",
    "# Wind speed less than or equal to 10 mph\n",
    "# Not more than 30% cloud cover\n",
    "# Not more than 80% humdity\n",
    "\n",
    "ideal_weather_conditions_df = cities_weather_df[ (cities_weather_df['Max Temperature'] >= 65) & (cities_weather_df['Max Temperature'] <= 80) & (cities_weather_df['Wind Speed'] <= 10) & (cities_weather_df['Cloudiness'] <= 30)  & (cities_weather_df['Humidity'] <= 80)]\n",
    "\n",
    "# Drop any rows with null values\n",
    "ideal_cities_df = ideal_weather_conditions_df.dropna(how='any')\n",
    "ideal_cities_df.count()"
   ]
  },
  {
   "cell_type": "markdown",
   "execution_count": null,
   "metadata": {},
   "outputs": [],
   "source": [
    "### Hotel Map\n",
    "* Store into variable named `hotel_df`.\n",
    "* Add a \"Hotel Name\" column to the DataFrame.\n",
    "* Set parameters to search for hotels with 5000 meters.\n",
    "* Hit the Google Places API for each city's coordinates.\n",
    "* Store the first Hotel result into the DataFrame.\n",
    "* Plot markers on top of the heatmap."
   ]
  },
  {
   "cell_type": "code",
   "execution_count": null,
   "metadata": {},
   "outputs": [],
   "source": [
    "# Set Base URL for the Google Places API\n",
    "places_api_url = f'https://maps.googleapis.com/maps/api/place/nearbysearch/json'\n",
    "\n",
    "# Set up lists to hold hotel names, their geo-coordinates, city and country \n",
    "hotels_list = []\n",
    "hotels_lat = []\n",
    "hotels_lng = []\n",
    "cities = []\n",
    "countries = []\n",
    "\n",
    "# Start of print log as we begin data retrieval using the API\n",
    "print(\"Searching for Hotels...\")\n",
    "print(f\"-\" * 90)\n",
    "\n",
    "# Iterate over the ideal cities DataFrame to find the first hotel for each city located within 5000 meters of the geo-coordinates.\n",
    "for index, row in ideal_cities_df.iterrows(): \n",
    "    # Setup a dictionary for the parameters to do a 'nearbysearch' of hotels using the Google Places API\n",
    "    # Parameters include:\n",
    "    # - the lat/long of city around which to retrieve place information\n",
    "    # - the radius (in meters) within which to return place results\n",
    "    # - type of place, i.e. lodging/hotels that we want to search for\n",
    "    params = { 'location': f\"{row['Latitude']}, {row['Longitude']}\", 'radius': 5000, 'type': 'lodging', 'key': g_key }\n",
    "    \n",
    "    # Execute the Google Place API call with the defined parameters and store the results into a JSON response object\n",
    "    places_response = requests.get(places_api_url, params=params).json()\n",
    "\n",
    "    # Try to grab the Hotel Name and it's Geo-Coordinates if available\n",
    "    try:\n",
    "        hotel_name = places_response['results'][0]['name']\n",
    "        hotels_list.append(hotel_name)\n",
    "        hotels_lat.append(places_response['results'][0]['geometry']['location']['lat'])\n",
    "        hotels_lng.append(places_response['results'][0]['geometry']['location']['lng'])\n",
    "        cities.append(row['City'])\n",
    "        countries.append(row['Country'])\n",
    "        # Print a log of each city as it's being processed with the city number and city name=\n",
    "        print(f\"Found the hotel '{hotel_name}' within 5000 meters of the city '{row['City']}'\")\n",
    "\n",
    "    # Handle exceptions for any hotels that could not be found within the 5000 meter radius \n",
    "    except:\n",
    "        print(f\"Cound not find any hotel within 5000 meters of the city '{row['City']}' | Skipping to the next one...\")\n",
    "        pass\n",
    "\n",
    "# Print the final log indicating that the search has been completed\n",
    "print(\"-\" * 90)\n",
    "print(f\"Completed Hotel Search | Below is a list of all {len(hotels_list)} Hotels...\")      \n",
    "print(\"-\" * 90)\n",
    "\n",
    "# Save the Hotel results to a DataFrame and print it\n",
    "hotel_df = pd.DataFrame( {'Hotel Name': hotels_list, 'Hotel Lat': hotels_lat, 'Hotel Lng': hotels_lng, 'City': cities, 'Country': countries} )\n",
    "hotel_df"
   ]
  },
  {
   "cell_type": "code",
   "execution_count": null,
   "metadata": {},
   "outputs": [],
   "source": [
    "# Using the template add the hotel markers to the heatmap\n",
    "info_box_template = \"\"\"\n",
    "<dl>\n",
    "<dt>Name</dt><dd>{Hotel Name}</dd>\n",
    "<dt>City</dt><dd>{City}</dd>\n",
    "<dt>Country</dt><dd>{Country}</dd>\n",
    "</dl>\n",
    "\"\"\"\n",
    "# Store the DataFrame Row\n",
    "hotel_info = [info_box_template.format(**row) for index, row in hotel_df.iterrows()]\n",
    "\n",
    "# List of hotel marker locations represents the lat/long coordinates of each hotel\n",
    "hotel_marker_locations = hotel_df[[\"Hotel Lat\", \"Hotel Lng\"]]"
   ]
  },
  {
   "cell_type": "code",
   "execution_count": null,
   "metadata": {},
   "outputs": [],
   "source": [
    "# Add marker layer ontop of heat map\n",
    "marker_layer = gmaps.marker_layer(hotel_marker_locations, info_box_content=hotel_info)\n",
    "fig.add_layer(marker_layer)\n",
    "\n",
    "# Display Map\n",
    "fig"
   ]
  },
  {
   "cell_type": "code",
   "execution_count": null,
   "metadata": {},
   "outputs": [],
   "source": []
  }
 ],
 "metadata": {
  "kernelspec": {
   "display_name": "Python 3.7.5 64-bit ('PythonData': conda)",
   "language": "python",
   "name": "python37564bitpythondatacondac30bd6fcf4694af7948ebff9c485f105"
  },
  "language_info": {
   "codemirror_mode": {
    "name": "ipython",
    "version": 3
   },
   "file_extension": ".py",
   "mimetype": "text/x-python",
   "name": "python",
   "nbconvert_exporter": "python",
   "pygments_lexer": "ipython3",
   "version": "3.7.5-final"
  },
  "latex_envs": {
   "LaTeX_envs_menu_present": true,
   "autoclose": false,
   "autocomplete": true,
   "bibliofile": "biblio.bib",
   "cite_by": "apalike",
   "current_citInitial": 1,
   "eqLabelWithNumbers": true,
   "eqNumInitial": 1,
   "hotkeys": {
    "equation": "Ctrl-E",
    "itemize": "Ctrl-I"
   },
   "labels_anchors": false,
   "latex_user_defs": false,
   "report_style_numbering": false,
   "user_envs_cfg": false
  }
 },
 "nbformat": 4,
 "nbformat_minor": 2
}